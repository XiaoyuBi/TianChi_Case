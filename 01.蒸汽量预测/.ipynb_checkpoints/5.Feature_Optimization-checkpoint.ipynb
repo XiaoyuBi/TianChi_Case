{
 "cells": [
  {
   "cell_type": "code",
   "execution_count": 1,
   "metadata": {},
   "outputs": [],
   "source": [
    "import pandas as pd \n",
    "\n",
    "train_data_file = 'data/zhengqi_train.txt'\n",
    "test_data_file = 'data/zhengqi_test.txt'\n",
    "\n",
    "train_data = pd.read_csv(train_data_file, sep = '\\t', encoding = 'utf-8')\n",
    "test_data = pd.read_csv(test_data_file, sep = '\\t', encoding = 'utf_8')"
   ]
  },
  {
   "cell_type": "markdown",
   "metadata": {},
   "source": [
    "## 定义特征构造方法"
   ]
  },
  {
   "cell_type": "code",
   "execution_count": 2,
   "metadata": {},
   "outputs": [],
   "source": [
    "eps = 1e-5\n",
    "\n",
    "# 交叉特征方式\n",
    "func_dict = {\n",
    "    'add':lambda x, y: x + y,\n",
    "    'multi':lambda x, y: x * y,\n",
    "    'div':lambda x, y: x / (y + eps),\n",
    "}"
   ]
  },
  {
   "cell_type": "code",
   "execution_count": 3,
   "metadata": {},
   "outputs": [],
   "source": [
    "# 特征构造方法\n",
    "def auto_features(train_data, test_data, func_dict, col_list):\n",
    "    train_data, test_data = train_data.copy(), test_data.copy()\n",
    "    for col_i in col_list:\n",
    "        for col_j in col_list:\n",
    "            for func_name, func in func_dict.items():\n",
    "                for data in [train_data, test_data]:\n",
    "                    func_features = func(data[col_i], data[col_j])\n",
    "                    col_func_features = '-'.join([col_i, func_name, col_j])\n",
    "                    data[col_func_features] = func_features\n",
    "    \n",
    "    return train_data, test_data"
   ]
  },
  {
   "cell_type": "markdown",
   "metadata": {},
   "source": [
    "## 构造特征并降维"
   ]
  },
  {
   "cell_type": "code",
   "execution_count": 4,
   "metadata": {},
   "outputs": [],
   "source": [
    "# 构造特征\n",
    "train_data2, test_data2 = auto_features(train_data,test_data,func_dict,col_list=test_data.columns)"
   ]
  },
  {
   "cell_type": "code",
   "execution_count": 5,
   "metadata": {},
   "outputs": [],
   "source": [
    "# PCA降维\n",
    "from sklearn.decomposition import PCA\n",
    "\n",
    "pca = PCA(n_components = 500)\n",
    "train_data2_pca = pca.fit_transform(train_data2.iloc[:,0:-1])\n",
    "test_data2_pca = pca.transform(test_data2)\n",
    "train_data2_pca = pd.DataFrame(train_data2_pca)\n",
    "test_data2_pca = pd.DataFrame(test_data2_pca)\n",
    "train_data2_pca['target'] = train_data2['target']\n",
    "\n",
    "# 训练准备\n",
    "X_train2 = train_data2[test_data2.columns].values\n",
    "y_train = train_data2['target']"
   ]
  },
  {
   "cell_type": "markdown",
   "metadata": {},
   "source": [
    "## LGB模型训练"
   ]
  },
  {
   "cell_type": "code",
   "execution_count": 6,
   "metadata": {},
   "outputs": [
    {
     "name": "stdout",
     "output_type": "stream",
     "text": [
      "Training until validation scores don't improve for 100 rounds.\n",
      "[600]\tTrain's l2: 0.0429543\tTest's l2: 0.117409\n",
      "[1200]\tTrain's l2: 0.0206657\tTest's l2: 0.11418\n",
      "Early stopping, best iteration is:\n",
      "[1698]\tTrain's l2: 0.0119091\tTest's l2: 0.112934\n",
      "第0折 训练和预测 训练MSE 预测MSE\n",
      "------\t 训练MSE\t 0.011909097708741524 \t------\n",
      "------\t 预测MSE\t 0.11293385783352594 \t------\n",
      "\n",
      "Training until validation scores don't improve for 100 rounds.\n",
      "[600]\tTrain's l2: 0.0446672\tTest's l2: 0.104044\n",
      "[1200]\tTrain's l2: 0.0207863\tTest's l2: 0.100736\n",
      "[1800]\tTrain's l2: 0.010513\tTest's l2: 0.0996182\n",
      "Early stopping, best iteration is:\n",
      "[1808]\tTrain's l2: 0.0104171\tTest's l2: 0.0995806\n",
      "第1折 训练和预测 训练MSE 预测MSE\n",
      "------\t 训练MSE\t 0.010417092420258707 \t------\n",
      "------\t 预测MSE\t 0.09958063481516348 \t------\n",
      "\n",
      "Training until validation scores don't improve for 100 rounds.\n",
      "[600]\tTrain's l2: 0.044053\tTest's l2: 0.10463\n",
      "[1200]\tTrain's l2: 0.0209939\tTest's l2: 0.101379\n",
      "[1800]\tTrain's l2: 0.0109506\tTest's l2: 0.0996974\n",
      "[2400]\tTrain's l2: 0.00607394\tTest's l2: 0.0988323\n",
      "[3000]\tTrain's l2: 0.00365503\tTest's l2: 0.098321\n",
      "Did not meet early stopping. Best iteration is:\n",
      "[3000]\tTrain's l2: 0.00365503\tTest's l2: 0.098321\n",
      "第2折 训练和预测 训练MSE 预测MSE\n",
      "------\t 训练MSE\t 0.0036550315928538407 \t------\n",
      "------\t 预测MSE\t 0.09832095115712135 \t------\n",
      "\n",
      "Training until validation scores don't improve for 100 rounds.\n",
      "[600]\tTrain's l2: 0.043226\tTest's l2: 0.122334\n",
      "[1200]\tTrain's l2: 0.0203464\tTest's l2: 0.117855\n",
      "[1800]\tTrain's l2: 0.0105192\tTest's l2: 0.116615\n",
      "Early stopping, best iteration is:\n",
      "[2013]\tTrain's l2: 0.00843265\tTest's l2: 0.116259\n",
      "第3折 训练和预测 训练MSE 预测MSE\n",
      "------\t 训练MSE\t 0.008432647602258895 \t------\n",
      "------\t 预测MSE\t 0.11625884614608846 \t------\n",
      "\n",
      "Training until validation scores don't improve for 100 rounds.\n",
      "[600]\tTrain's l2: 0.0446795\tTest's l2: 0.108496\n",
      "[1200]\tTrain's l2: 0.0211013\tTest's l2: 0.105102\n",
      "Early stopping, best iteration is:\n",
      "[1383]\tTrain's l2: 0.0171819\tTest's l2: 0.104447\n",
      "第4折 训练和预测 训练MSE 预测MSE\n",
      "------\t 训练MSE\t 0.017181862883028358 \t------\n",
      "------\t 预测MSE\t 0.1044469676545597 \t------\n",
      "\n",
      "------\t 训练平均MSE\t 0.010319146441428265 \t------\n",
      "------\t 预测平均MSE\t 0.1063082515212918 \t------\n"
     ]
    }
   ],
   "source": [
    "# ls_validation i\n",
    "from sklearn.model_selection import KFold\n",
    "from sklearn.metrics import mean_squared_error\n",
    "import lightgbm as lgb\n",
    "import numpy as np\n",
    "\n",
    "# 5折交叉验证\n",
    "Folds = 5\n",
    "kf = KFold(n_splits = Folds, random_state = 0, shuffle = True)\n",
    "# 记录训练和预测MSE\n",
    "MSE_DICT = {\n",
    "    'train_mse':[],\n",
    "    'test_mse':[]\n",
    "}\n",
    "\n",
    "# 线下训练预测\n",
    "for i, (train_index, test_index) in enumerate(kf.split(X_train2)):\n",
    "    # lgb树模型\n",
    "    lgb_reg = lgb.LGBMRegressor(\n",
    "        boosting_type = 'gbdt',\n",
    "        objective = 'regression',\n",
    "        metric = 'mse',\n",
    "        train_metric = True,\n",
    "        n_estimators = 3000,\n",
    "        early_stopping_rounds = 100,\n",
    "        n_jobs = -1,\n",
    "        learning_rate = 0.01,\n",
    "        max_depth = 4,\n",
    "        feature_fraction = 0.8,\n",
    "        feature_fraction_seed = 0,\n",
    "        bagging_fraction = 0.8, \n",
    "        bagging_freq = 2,\n",
    "        bagging_seed = 0,\n",
    "        lambda_l1 = 1,\n",
    "        lambda_l2 = 1,\n",
    "        verbosity = 1\n",
    "    )\n",
    "   \n",
    "    # 切分训练集和预测集\n",
    "    X_train_KFold, X_test_KFold = X_train2[train_index], X_train2[test_index]\n",
    "    y_train_KFold, y_test_KFold = y_train[train_index], y_train[test_index]\n",
    "    \n",
    "    # 训练模型\n",
    "    lgb_reg.fit(\n",
    "            X=X_train_KFold,y=y_train_KFold,\n",
    "            eval_set=[(X_train_KFold, y_train_KFold),(X_test_KFold, y_test_KFold)],\n",
    "            eval_names=['Train','Test'],\n",
    "            early_stopping_rounds=100,\n",
    "            eval_metric='MSE',\n",
    "            verbose=600\n",
    "        )\n",
    "\n",
    "\n",
    "    # 训练集预测 测试集预测\n",
    "    y_train_KFold_predict = lgb_reg.predict(X_train_KFold,num_iteration=lgb_reg.best_iteration_)\n",
    "    y_test_KFold_predict = lgb_reg.predict(X_test_KFold,num_iteration=lgb_reg.best_iteration_) \n",
    "    \n",
    "    print('第{}折 训练和预测 训练MSE 预测MSE'.format(i))\n",
    "    train_mse = mean_squared_error(y_train_KFold_predict, y_train_KFold)\n",
    "    print('------\\t', '训练MSE\\t', train_mse, '\\t------')\n",
    "    test_mse = mean_squared_error(y_test_KFold_predict, y_test_KFold)\n",
    "    print('------\\t', '预测MSE\\t', test_mse, '\\t------\\n')\n",
    "    \n",
    "    MSE_DICT['train_mse'].append(train_mse)\n",
    "    MSE_DICT['test_mse'].append(test_mse)\n",
    "print('------\\t', '训练平均MSE\\t', np.mean(MSE_DICT['train_mse']), '\\t------')\n",
    "print('------\\t', '预测平均MSE\\t', np.mean(MSE_DICT['test_mse']), '\\t------')"
   ]
  },
  {
   "cell_type": "code",
   "execution_count": null,
   "metadata": {},
   "outputs": [],
   "source": []
  }
 ],
 "metadata": {
  "kernelspec": {
   "display_name": "Python 3",
   "language": "python",
   "name": "python3"
  },
  "language_info": {
   "codemirror_mode": {
    "name": "ipython",
    "version": 3
   },
   "file_extension": ".py",
   "mimetype": "text/x-python",
   "name": "python",
   "nbconvert_exporter": "python",
   "pygments_lexer": "ipython3",
   "version": "3.7.3"
  }
 },
 "nbformat": 4,
 "nbformat_minor": 2
}
