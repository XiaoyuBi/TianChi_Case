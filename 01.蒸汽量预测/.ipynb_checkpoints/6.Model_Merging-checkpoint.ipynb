{
 "cells": [
  {
   "cell_type": "code",
   "execution_count": 1,
   "metadata": {},
   "outputs": [],
   "source": [
    "import warnings\n",
    "warnings.filterwarnings(\"ignore\")\n",
    "import matplotlib.pyplot as plt\n",
    "plt.rcParams.update({'figure.max_open_warning': 0})\n",
    "import seaborn as sns\n",
    "\n",
    "# modelling\n",
    "import pandas as pd\n",
    "import numpy as np\n",
    "from scipy import stats\n",
    "from sklearn.model_selection import train_test_split\n",
    "from sklearn.model_selection import GridSearchCV, RepeatedKFold, cross_val_score,cross_val_predict,KFold\n",
    "from sklearn.metrics import make_scorer,mean_squared_error\n",
    "from sklearn.linear_model import LinearRegression, Lasso, Ridge, ElasticNet\n",
    "from sklearn.svm import LinearSVR, SVR\n",
    "from sklearn.neighbors import KNeighborsRegressor\n",
    "from sklearn.ensemble import RandomForestRegressor, GradientBoostingRegressor, AdaBoostRegressor\n",
    "from xgboost import XGBRegressor\n",
    "from sklearn.preprocessing import PolynomialFeatures, MinMaxScaler, StandardScaler"
   ]
  },
  {
   "cell_type": "markdown",
   "metadata": {},
   "source": [
    "## 数据预处理"
   ]
  },
  {
   "cell_type": "code",
   "execution_count": 2,
   "metadata": {},
   "outputs": [],
   "source": [
    "# 导入数据\n",
    "with open(\"data/zhengqi_train.txt\")  as fr:\n",
    "    data_train = pd.read_csv(fr, sep = \"\\t\", encoding = 'utf-8')\n",
    "with open(\"data/zhengqi_test.txt\") as fr_test:\n",
    "    data_test = pd.read_csv(fr_test, sep = \"\\t\", encoding = 'utf-8')\n",
    "\n",
    "# 合并数据\n",
    "data_train[\"origin\"] = \"train\"\n",
    "data_test[\"origin\"] = \"test\"\n",
    "data_all = pd.concat([data_train,data_test], axis=0, ignore_index=True)\n",
    "# 删除不一致特征\n",
    "data_all.drop([\"V5\",\"V9\",\"V11\",\"V17\",\"V22\",\"V28\"],axis=1,inplace=True)"
   ]
  },
  {
   "cell_type": "code",
   "execution_count": 3,
   "metadata": {},
   "outputs": [
    {
     "data": {
      "text/html": [
       "<div>\n",
       "<style scoped>\n",
       "    .dataframe tbody tr th:only-of-type {\n",
       "        vertical-align: middle;\n",
       "    }\n",
       "\n",
       "    .dataframe tbody tr th {\n",
       "        vertical-align: top;\n",
       "    }\n",
       "\n",
       "    .dataframe thead th {\n",
       "        text-align: right;\n",
       "    }\n",
       "</style>\n",
       "<table border=\"1\" class=\"dataframe\">\n",
       "  <thead>\n",
       "    <tr style=\"text-align: right;\">\n",
       "      <th></th>\n",
       "      <th>V0</th>\n",
       "      <th>V1</th>\n",
       "      <th>V10</th>\n",
       "      <th>V12</th>\n",
       "      <th>V13</th>\n",
       "      <th>V14</th>\n",
       "      <th>V15</th>\n",
       "      <th>V16</th>\n",
       "      <th>V18</th>\n",
       "      <th>V19</th>\n",
       "      <th>...</th>\n",
       "      <th>V34</th>\n",
       "      <th>V35</th>\n",
       "      <th>V36</th>\n",
       "      <th>V37</th>\n",
       "      <th>V4</th>\n",
       "      <th>V6</th>\n",
       "      <th>V7</th>\n",
       "      <th>V8</th>\n",
       "      <th>origin</th>\n",
       "      <th>target</th>\n",
       "    </tr>\n",
       "  </thead>\n",
       "  <tbody>\n",
       "    <tr>\n",
       "      <th>0</th>\n",
       "      <td>0.566</td>\n",
       "      <td>0.016</td>\n",
       "      <td>-0.940</td>\n",
       "      <td>-0.073</td>\n",
       "      <td>0.550</td>\n",
       "      <td>-0.484</td>\n",
       "      <td>0.000</td>\n",
       "      <td>-1.707</td>\n",
       "      <td>-0.573</td>\n",
       "      <td>-0.991</td>\n",
       "      <td>...</td>\n",
       "      <td>-4.789</td>\n",
       "      <td>-5.101</td>\n",
       "      <td>-2.608</td>\n",
       "      <td>-3.508</td>\n",
       "      <td>0.452</td>\n",
       "      <td>-1.812</td>\n",
       "      <td>-2.360</td>\n",
       "      <td>-0.436</td>\n",
       "      <td>train</td>\n",
       "      <td>0.175</td>\n",
       "    </tr>\n",
       "    <tr>\n",
       "      <th>1</th>\n",
       "      <td>0.968</td>\n",
       "      <td>0.437</td>\n",
       "      <td>0.188</td>\n",
       "      <td>-0.134</td>\n",
       "      <td>1.109</td>\n",
       "      <td>-0.488</td>\n",
       "      <td>0.000</td>\n",
       "      <td>-0.977</td>\n",
       "      <td>-0.571</td>\n",
       "      <td>-0.836</td>\n",
       "      <td>...</td>\n",
       "      <td>0.160</td>\n",
       "      <td>0.364</td>\n",
       "      <td>-0.335</td>\n",
       "      <td>-0.730</td>\n",
       "      <td>0.194</td>\n",
       "      <td>-1.566</td>\n",
       "      <td>-2.360</td>\n",
       "      <td>0.332</td>\n",
       "      <td>train</td>\n",
       "      <td>0.676</td>\n",
       "    </tr>\n",
       "    <tr>\n",
       "      <th>2</th>\n",
       "      <td>1.013</td>\n",
       "      <td>0.568</td>\n",
       "      <td>0.874</td>\n",
       "      <td>-0.072</td>\n",
       "      <td>0.767</td>\n",
       "      <td>-0.493</td>\n",
       "      <td>-0.212</td>\n",
       "      <td>-0.618</td>\n",
       "      <td>-0.564</td>\n",
       "      <td>-0.558</td>\n",
       "      <td>...</td>\n",
       "      <td>0.160</td>\n",
       "      <td>0.364</td>\n",
       "      <td>0.765</td>\n",
       "      <td>-0.589</td>\n",
       "      <td>0.112</td>\n",
       "      <td>-1.367</td>\n",
       "      <td>-2.360</td>\n",
       "      <td>0.396</td>\n",
       "      <td>train</td>\n",
       "      <td>0.633</td>\n",
       "    </tr>\n",
       "    <tr>\n",
       "      <th>3</th>\n",
       "      <td>0.733</td>\n",
       "      <td>0.368</td>\n",
       "      <td>0.011</td>\n",
       "      <td>-0.014</td>\n",
       "      <td>0.769</td>\n",
       "      <td>-0.371</td>\n",
       "      <td>-0.162</td>\n",
       "      <td>-0.429</td>\n",
       "      <td>-0.574</td>\n",
       "      <td>-0.564</td>\n",
       "      <td>...</td>\n",
       "      <td>-0.065</td>\n",
       "      <td>0.364</td>\n",
       "      <td>0.333</td>\n",
       "      <td>-0.112</td>\n",
       "      <td>0.599</td>\n",
       "      <td>-1.200</td>\n",
       "      <td>-2.086</td>\n",
       "      <td>0.403</td>\n",
       "      <td>train</td>\n",
       "      <td>0.206</td>\n",
       "    </tr>\n",
       "    <tr>\n",
       "      <th>4</th>\n",
       "      <td>0.684</td>\n",
       "      <td>0.638</td>\n",
       "      <td>-0.251</td>\n",
       "      <td>0.199</td>\n",
       "      <td>-0.349</td>\n",
       "      <td>-0.342</td>\n",
       "      <td>-0.138</td>\n",
       "      <td>-0.391</td>\n",
       "      <td>-0.572</td>\n",
       "      <td>-0.394</td>\n",
       "      <td>...</td>\n",
       "      <td>-0.215</td>\n",
       "      <td>0.364</td>\n",
       "      <td>-0.280</td>\n",
       "      <td>-0.028</td>\n",
       "      <td>0.337</td>\n",
       "      <td>-1.073</td>\n",
       "      <td>-2.086</td>\n",
       "      <td>0.314</td>\n",
       "      <td>train</td>\n",
       "      <td>0.384</td>\n",
       "    </tr>\n",
       "  </tbody>\n",
       "</table>\n",
       "<p>5 rows × 34 columns</p>\n",
       "</div>"
      ],
      "text/plain": [
       "      V0     V1    V10    V12    V13    V14    V15    V16    V18    V19  ...  \\\n",
       "0  0.566  0.016 -0.940 -0.073  0.550 -0.484  0.000 -1.707 -0.573 -0.991  ...   \n",
       "1  0.968  0.437  0.188 -0.134  1.109 -0.488  0.000 -0.977 -0.571 -0.836  ...   \n",
       "2  1.013  0.568  0.874 -0.072  0.767 -0.493 -0.212 -0.618 -0.564 -0.558  ...   \n",
       "3  0.733  0.368  0.011 -0.014  0.769 -0.371 -0.162 -0.429 -0.574 -0.564  ...   \n",
       "4  0.684  0.638 -0.251  0.199 -0.349 -0.342 -0.138 -0.391 -0.572 -0.394  ...   \n",
       "\n",
       "     V34    V35    V36    V37     V4     V6     V7     V8  origin  target  \n",
       "0 -4.789 -5.101 -2.608 -3.508  0.452 -1.812 -2.360 -0.436   train   0.175  \n",
       "1  0.160  0.364 -0.335 -0.730  0.194 -1.566 -2.360  0.332   train   0.676  \n",
       "2  0.160  0.364  0.765 -0.589  0.112 -1.367 -2.360  0.396   train   0.633  \n",
       "3 -0.065  0.364  0.333 -0.112  0.599 -1.200 -2.086  0.403   train   0.206  \n",
       "4 -0.215  0.364 -0.280 -0.028  0.337 -1.073 -2.086  0.314   train   0.384  \n",
       "\n",
       "[5 rows x 34 columns]"
      ]
     },
     "execution_count": 3,
     "metadata": {},
     "output_type": "execute_result"
    }
   ],
   "source": [
    "data_all.head()"
   ]
  },
  {
   "cell_type": "code",
   "execution_count": 4,
   "metadata": {},
   "outputs": [],
   "source": [
    "# 最大最小归一化\n",
    "cols_numeric = list(data_all.columns)\n",
    "cols_numeric.remove(\"origin\")\n",
    "def scale_minmax(col):\n",
    "    return (col - col.min())/(col.max() - col.min())\n",
    "scale_cols = [col for col in cols_numeric if col != 'target']\n",
    "data_all[scale_cols] = data_all[scale_cols].apply(scale_minmax, axis = 0)\n",
    "\n",
    "# Box-Cox变换，使数据分布满足正态性\n",
    "cols_transform = data_all.columns[0:-2]\n",
    "for col in cols_transform:   \n",
    "    # transform column\n",
    "    data_all.loc[:, col], _ = stats.boxcox(data_all.loc[:, col] + 1)"
   ]
  },
  {
   "cell_type": "code",
   "execution_count": 5,
   "metadata": {},
   "outputs": [
    {
     "data": {
      "image/png": "[encoded data removed]",
      "text/plain": [
       "<Figure size 864x288 with 2 Axes>"
      ]
     },
     "metadata": {
      "needs_background": "light"
     },
     "output_type": "display_data"
    }
   ],
   "source": [
    "# target标签数据分析，分位数\n",
    "plt.figure(figsize = (12,4))\n",
    "plt.subplot(1,2,1)\n",
    "sns.distplot(data_all.target.dropna() , fit = stats.norm)\n",
    "plt.subplot(1,2,2)\n",
    "_ = stats.probplot(data_all.target.dropna(), plot = plt)"
   ]
  },
  {
   "cell_type": "code",
   "execution_count": 6,
   "metadata": {},
   "outputs": [
    {
     "data": {
      "image/png": "[encoded data removed]",
      "text/plain": [
       "<Figure size 864x288 with 2 Axes>"
      ]
     },
     "metadata": {
      "needs_background": "light"
     },
     "output_type": "display_data"
    }
   ],
   "source": [
    "# 对target进行对数变换，使数据更符合正态性\n",
    "sp = data_train.target\n",
    "data_train.target1 = np.power(1.5 ,sp)\n",
    "\n",
    "plt.figure(figsize=(12,4))\n",
    "plt.subplot(1,2,1)\n",
    "sns.distplot(data_train.target1.dropna(),fit = stats.norm)\n",
    "plt.subplot(1,2,2)\n",
    "_ = stats.probplot(data_train.target1.dropna(), plot = plt)"
   ]
  },
  {
   "cell_type": "code",
   "execution_count": 7,
   "metadata": {},
   "outputs": [
    {
     "data": {
      "text/html": [
       "<div>\n",
       "<style scoped>\n",
       "    .dataframe tbody tr th:only-of-type {\n",
       "        vertical-align: middle;\n",
       "    }\n",
       "\n",
       "    .dataframe tbody tr th {\n",
       "        vertical-align: top;\n",
       "    }\n",
       "\n",
       "    .dataframe thead th {\n",
       "        text-align: right;\n",
       "    }\n",
       "</style>\n",
       "<table border=\"1\" class=\"dataframe\">\n",
       "  <thead>\n",
       "    <tr style=\"text-align: right;\">\n",
       "      <th></th>\n",
       "      <th>V0</th>\n",
       "      <th>V1</th>\n",
       "      <th>V10</th>\n",
       "      <th>V12</th>\n",
       "      <th>V13</th>\n",
       "      <th>V14</th>\n",
       "      <th>V15</th>\n",
       "      <th>V16</th>\n",
       "      <th>V18</th>\n",
       "      <th>V19</th>\n",
       "      <th>...</th>\n",
       "      <th>V33</th>\n",
       "      <th>V34</th>\n",
       "      <th>V35</th>\n",
       "      <th>V36</th>\n",
       "      <th>V37</th>\n",
       "      <th>V4</th>\n",
       "      <th>V6</th>\n",
       "      <th>V7</th>\n",
       "      <th>V8</th>\n",
       "      <th>target</th>\n",
       "    </tr>\n",
       "  </thead>\n",
       "  <tbody>\n",
       "    <tr>\n",
       "      <th>count</th>\n",
       "      <td>4813.000000</td>\n",
       "      <td>4813.000000</td>\n",
       "      <td>4813.000000</td>\n",
       "      <td>4813.000000</td>\n",
       "      <td>4813.000000</td>\n",
       "      <td>4813.000000</td>\n",
       "      <td>4813.000000</td>\n",
       "      <td>4813.000000</td>\n",
       "      <td>4813.000000</td>\n",
       "      <td>4813.000000</td>\n",
       "      <td>...</td>\n",
       "      <td>4813.000000</td>\n",
       "      <td>4813.000000</td>\n",
       "      <td>4813.000000</td>\n",
       "      <td>4813.000000</td>\n",
       "      <td>4813.000000</td>\n",
       "      <td>4813.000000</td>\n",
       "      <td>4813.000000</td>\n",
       "      <td>4813.000000</td>\n",
       "      <td>4813.000000</td>\n",
       "      <td>2888.000000</td>\n",
       "    </tr>\n",
       "    <tr>\n",
       "      <th>mean</th>\n",
       "      <td>3.427480</td>\n",
       "      <td>6.378048</td>\n",
       "      <td>0.469437</td>\n",
       "      <td>1.593213</td>\n",
       "      <td>1.055692</td>\n",
       "      <td>0.437986</td>\n",
       "      <td>0.299631</td>\n",
       "      <td>4.667728</td>\n",
       "      <td>0.669058</td>\n",
       "      <td>0.735936</td>\n",
       "      <td>...</td>\n",
       "      <td>0.481946</td>\n",
       "      <td>0.579588</td>\n",
       "      <td>8.398803</td>\n",
       "      <td>0.456535</td>\n",
       "      <td>0.501007</td>\n",
       "      <td>1.074719</td>\n",
       "      <td>5.254054</td>\n",
       "      <td>7.138788</td>\n",
       "      <td>4.984340</td>\n",
       "      <td>0.126353</td>\n",
       "    </tr>\n",
       "    <tr>\n",
       "      <th>std</th>\n",
       "      <td>1.371064</td>\n",
       "      <td>2.571101</td>\n",
       "      <td>0.210838</td>\n",
       "      <td>0.491027</td>\n",
       "      <td>0.354861</td>\n",
       "      <td>0.162553</td>\n",
       "      <td>0.079881</td>\n",
       "      <td>1.696874</td>\n",
       "      <td>0.230069</td>\n",
       "      <td>0.247297</td>\n",
       "      <td>...</td>\n",
       "      <td>0.108294</td>\n",
       "      <td>0.137779</td>\n",
       "      <td>2.813439</td>\n",
       "      <td>0.204945</td>\n",
       "      <td>0.129089</td>\n",
       "      <td>0.328329</td>\n",
       "      <td>2.031707</td>\n",
       "      <td>2.884434</td>\n",
       "      <td>1.839067</td>\n",
       "      <td>0.983966</td>\n",
       "    </tr>\n",
       "    <tr>\n",
       "      <th>min</th>\n",
       "      <td>0.000000</td>\n",
       "      <td>0.000000</td>\n",
       "      <td>0.000000</td>\n",
       "      <td>0.000000</td>\n",
       "      <td>0.000000</td>\n",
       "      <td>0.000000</td>\n",
       "      <td>0.000000</td>\n",
       "      <td>0.000000</td>\n",
       "      <td>0.000000</td>\n",
       "      <td>0.000000</td>\n",
       "      <td>...</td>\n",
       "      <td>0.000000</td>\n",
       "      <td>0.000000</td>\n",
       "      <td>0.000000</td>\n",
       "      <td>0.000000</td>\n",
       "      <td>0.000000</td>\n",
       "      <td>0.000000</td>\n",
       "      <td>0.000000</td>\n",
       "      <td>0.000000</td>\n",
       "      <td>0.000000</td>\n",
       "      <td>-3.044000</td>\n",
       "    </tr>\n",
       "    <tr>\n",
       "      <th>25%</th>\n",
       "      <td>2.484074</td>\n",
       "      <td>4.873160</td>\n",
       "      <td>0.352574</td>\n",
       "      <td>1.315009</td>\n",
       "      <td>0.810328</td>\n",
       "      <td>0.332708</td>\n",
       "      <td>0.242059</td>\n",
       "      <td>3.545589</td>\n",
       "      <td>0.560482</td>\n",
       "      <td>0.540808</td>\n",
       "      <td>...</td>\n",
       "      <td>0.427183</td>\n",
       "      <td>0.535779</td>\n",
       "      <td>6.800553</td>\n",
       "      <td>0.340089</td>\n",
       "      <td>0.416296</td>\n",
       "      <td>0.899679</td>\n",
       "      <td>3.804887</td>\n",
       "      <td>5.313106</td>\n",
       "      <td>3.811819</td>\n",
       "      <td>-0.350250</td>\n",
       "    </tr>\n",
       "    <tr>\n",
       "      <th>50%</th>\n",
       "      <td>3.559023</td>\n",
       "      <td>6.563424</td>\n",
       "      <td>0.481508</td>\n",
       "      <td>1.601417</td>\n",
       "      <td>1.062402</td>\n",
       "      <td>0.431933</td>\n",
       "      <td>0.299582</td>\n",
       "      <td>4.728401</td>\n",
       "      <td>0.669570</td>\n",
       "      <td>0.758090</td>\n",
       "      <td>...</td>\n",
       "      <td>0.476720</td>\n",
       "      <td>0.598083</td>\n",
       "      <td>9.178637</td>\n",
       "      <td>0.463450</td>\n",
       "      <td>0.497660</td>\n",
       "      <td>1.081927</td>\n",
       "      <td>5.311894</td>\n",
       "      <td>7.195743</td>\n",
       "      <td>5.143503</td>\n",
       "      <td>0.313000</td>\n",
       "    </tr>\n",
       "    <tr>\n",
       "      <th>75%</th>\n",
       "      <td>4.345014</td>\n",
       "      <td>7.891019</td>\n",
       "      <td>0.595395</td>\n",
       "      <td>1.878581</td>\n",
       "      <td>1.303988</td>\n",
       "      <td>0.545507</td>\n",
       "      <td>0.354522</td>\n",
       "      <td>5.810378</td>\n",
       "      <td>0.762482</td>\n",
       "      <td>0.915396</td>\n",
       "      <td>...</td>\n",
       "      <td>0.526627</td>\n",
       "      <td>0.613971</td>\n",
       "      <td>9.178637</td>\n",
       "      <td>0.583759</td>\n",
       "      <td>0.585766</td>\n",
       "      <td>1.253200</td>\n",
       "      <td>6.734093</td>\n",
       "      <td>9.229905</td>\n",
       "      <td>6.135859</td>\n",
       "      <td>0.793250</td>\n",
       "    </tr>\n",
       "    <tr>\n",
       "      <th>max</th>\n",
       "      <td>8.171877</td>\n",
       "      <td>16.358641</td>\n",
       "      <td>1.947129</td>\n",
       "      <td>4.928237</td>\n",
       "      <td>2.199401</td>\n",
       "      <td>0.882436</td>\n",
       "      <td>0.566777</td>\n",
       "      <td>13.916249</td>\n",
       "      <td>2.154104</td>\n",
       "      <td>1.781522</td>\n",
       "      <td>...</td>\n",
       "      <td>1.097501</td>\n",
       "      <td>1.383556</td>\n",
       "      <td>19.634860</td>\n",
       "      <td>2.107262</td>\n",
       "      <td>0.875014</td>\n",
       "      <td>3.409123</td>\n",
       "      <td>11.247403</td>\n",
       "      <td>16.672905</td>\n",
       "      <td>12.495449</td>\n",
       "      <td>2.538000</td>\n",
       "    </tr>\n",
       "  </tbody>\n",
       "</table>\n",
       "<p>8 rows × 33 columns</p>\n",
       "</div>"
      ],
      "text/plain": [
       "                V0           V1          V10          V12          V13  \\\n",
       "count  4813.000000  4813.000000  4813.000000  4813.000000  4813.000000   \n",
       "mean      3.427480     6.378048     0.469437     1.593213     1.055692   \n",
       "std       1.371064     2.571101     0.210838     0.491027     0.354861   \n",
       "min       0.000000     0.000000     0.000000     0.000000     0.000000   \n",
       "25%       2.484074     4.873160     0.352574     1.315009     0.810328   \n",
       "50%       3.559023     6.563424     0.481508     1.601417     1.062402   \n",
       "75%       4.345014     7.891019     0.595395     1.878581     1.303988   \n",
       "max       8.171877    16.358641     1.947129     4.928237     2.199401   \n",
       "\n",
       "               V14          V15          V16          V18          V19  ...  \\\n",
       "count  4813.000000  4813.000000  4813.000000  4813.000000  4813.000000  ...   \n",
       "mean      0.437986     0.299631     4.667728     0.669058     0.735936  ...   \n",
       "std       0.162553     0.079881     1.696874     0.230069     0.247297  ...   \n",
       "min       0.000000     0.000000     0.000000     0.000000     0.000000  ...   \n",
       "25%       0.332708     0.242059     3.545589     0.560482     0.540808  ...   \n",
       "50%       0.431933     0.299582     4.728401     0.669570     0.758090  ...   \n",
       "75%       0.545507     0.354522     5.810378     0.762482     0.915396  ...   \n",
       "max       0.882436     0.566777    13.916249     2.154104     1.781522  ...   \n",
       "\n",
       "               V33          V34          V35          V36          V37  \\\n",
       "count  4813.000000  4813.000000  4813.000000  4813.000000  4813.000000   \n",
       "mean      0.481946     0.579588     8.398803     0.456535     0.501007   \n",
       "std       0.108294     0.137779     2.813439     0.204945     0.129089   \n",
       "min       0.000000     0.000000     0.000000     0.000000     0.000000   \n",
       "25%       0.427183     0.535779     6.800553     0.340089     0.416296   \n",
       "50%       0.476720     0.598083     9.178637     0.463450     0.497660   \n",
       "75%       0.526627     0.613971     9.178637     0.583759     0.585766   \n",
       "max       1.097501     1.383556    19.634860     2.107262     0.875014   \n",
       "\n",
       "                V4           V6           V7           V8       target  \n",
       "count  4813.000000  4813.000000  4813.000000  4813.000000  2888.000000  \n",
       "mean      1.074719     5.254054     7.138788     4.984340     0.126353  \n",
       "std       0.328329     2.031707     2.884434     1.839067     0.983966  \n",
       "min       0.000000     0.000000     0.000000     0.000000    -3.044000  \n",
       "25%       0.899679     3.804887     5.313106     3.811819    -0.350250  \n",
       "50%       1.081927     5.311894     7.195743     5.143503     0.313000  \n",
       "75%       1.253200     6.734093     9.229905     6.135859     0.793250  \n",
       "max       3.409123    11.247403    16.672905    12.495449     2.538000  \n",
       "\n",
       "[8 rows x 33 columns]"
      ]
     },
     "execution_count": 7,
     "metadata": {},
     "output_type": "execute_result"
    }
   ],
   "source": [
    "data_all.describe()"
   ]
  },
  {
   "cell_type": "code",
   "execution_count": 8,
   "metadata": {},
   "outputs": [],
   "source": [
    "# 获取训练和测试数据\n",
    "def get_training_data():\n",
    "    from sklearn.model_selection import train_test_split\n",
    "    df_train = data_all[data_all['origin'] == 'train']\n",
    "    df_train['label'] = data_train.target1\n",
    "\n",
    "    X = df_train.drop(['origin', 'target', 'label'], axis = 1)\n",
    "    y = df_train['target']\n",
    "    X_train, X_valid, y_train, y_valid = train_test_split(X, y, test_size = 0.3, random_state = 0)\n",
    "    return X_train, X_valid, y_train, y_valid\n",
    "\n",
    "def get_test_data():\n",
    "    df_test = data_all[data_all['origin'] == 'test'].reset_index(drop = True)\n",
    "    return df_test.drop(['origin', 'target'], axis = 1)\n",
    "\n",
    "# 评分函数\n",
    "from sklearn.metrics import make_scorer\n",
    "\n",
    "def rmse(y_true, y_pred):\n",
    "    diff = y_pred - y_true\n",
    "    sum_sq = sum(diff ** 2)\n",
    "    n = len(y_pred)\n",
    "\n",
    "    return np.sqrt(sum_sq / (n - 1))\n",
    "\n",
    "def mse(y_true, y_pred):\n",
    "    return mean_squared_error(y_true, y_pred)\n",
    "\n",
    "rmse_scorer = make_scorer(rmse, greater_is_better = False)\n",
    "mse_scorer = make_scorer(mse, greater_is_better = False)"
   ]
  },
  {
   "cell_type": "markdown",
   "metadata": {},
   "source": [
    "## 获取异常数据，并画图"
   ]
  },
  {
   "cell_type": "code",
   "execution_count": 9,
   "metadata": {},
   "outputs": [],
   "source": [
    "# function to detect outliers based on the predictions of a model\n",
    "def find_outliers(model, X, y, sigma = 3):\n",
    "\n",
    "    # predict y values using model\n",
    "    try:\n",
    "        y_pred = pd.Series(model.predict(X), index = y.index)\n",
    "    # if predicting fails, try fitting the model first\n",
    "    except:\n",
    "        model.fit(X, y)\n",
    "        y_pred = pd.Series(model.predict(X), index = y.index)\n",
    "        \n",
    "    # calculate residuals between the model prediction and true y values\n",
    "    resid = y - y_pred\n",
    "    mean_resid = resid.mean()\n",
    "    std_resid = resid.std()\n",
    "\n",
    "    # calculate z statistic, define outliers to be where |z|>sigma\n",
    "    z = (resid - mean_resid) / std_resid    \n",
    "    outliers = z[abs(z) > sigma].index\n",
    "    \n",
    "    # print and plot the results\n",
    "    print('R2 = ', model.score(X,y))\n",
    "    print('rmse = ', rmse(y, y_pred))\n",
    "    print(\"mse = \", mse(y,y_pred))\n",
    "    print('---------------------------------------')\n",
    "    print('mean of residuals: ', mean_resid)\n",
    "    print('std of residuals: ', std_resid)\n",
    "    print('---------------------------------------')\n",
    "    print(len(outliers), 'outliers: ')\n",
    "    print(outliers.tolist())\n",
    "\n",
    "    plt.figure(figsize=(15, 5))\n",
    "    ax_131 = plt.subplot(1,3,1)\n",
    "    plt.plot(y, y_pred, '.')\n",
    "    plt.plot(y.loc[outliers], y_pred.loc[outliers], 'ro')\n",
    "    plt.legend(['Accepted', 'Outlier'])\n",
    "    plt.xlabel('y')\n",
    "    plt.ylabel('y_pred')\n",
    "\n",
    "    ax_132=plt.subplot(1,3,2)\n",
    "    plt.plot(y, y-y_pred, '.')\n",
    "    plt.plot(y.loc[outliers], y.loc[outliers] - y_pred.loc[outliers], 'ro')\n",
    "    plt.legend(['Accepted', 'Outlier'])\n",
    "    plt.xlabel('y')\n",
    "    plt.ylabel('y - y_pred')\n",
    "\n",
    "    ax_133=plt.subplot(1,3,3)\n",
    "    z.plot.hist(bins = 50,ax = ax_133)\n",
    "    z.loc[outliers].plot.hist(color = 'r',bins = 50,ax = ax_133)\n",
    "    plt.legend(['Accepted','Outlier'])\n",
    "    plt.xlabel('z')\n",
    "    \n",
    "    plt.savefig('outliers.png')\n",
    "    \n",
    "    return outliers"
   ]
  },
  {
   "cell_type": "code",
   "execution_count": 10,
   "metadata": {},
   "outputs": [
    {
     "name": "stdout",
     "output_type": "stream",
     "text": [
      "R2 =  0.8682314460372129\n",
      "rmse =  0.35367758232277635\n",
      "mse =  0.12502593820886776\n",
      "---------------------------------------\n",
      "mean of residuals:  -2.291860692101016e-16\n",
      "std of residuals:  0.353677582322776\n",
      "---------------------------------------\n",
      "24 outliers: \n",
      "[2697, 2160, 1458, 2696, 1069, 1145, 884, 1164, 1310, 2668, 2807, 1704, 1874, 2279, 777, 2002, 691, 348, 2645, 2769, 2528, 2159, 2863, 2647]\n"
     ]
    },
    {
     "data": {
      "image/png": "[encoded data removed]",
      "text/plain": [
       "<Figure size 1080x360 with 3 Axes>"
      ]
     },
     "metadata": {
      "needs_background": "light"
     },
     "output_type": "display_data"
    }
   ],
   "source": [
    "# 获取数据\n",
    "X_train, X_valid, y_train, y_valid = get_training_data()\n",
    "test = get_test_data()\n",
    "\n",
    "# 利用Ridge寻找异常值\n",
    "outliers = find_outliers(Ridge(), X_train, y_train)\n",
    "\n",
    "#移除异常值\n",
    "X_outliers = X_train.loc[outliers]\n",
    "y_outliers = y_train.loc[outliers]\n",
    "X_t = X_train.drop(outliers)\n",
    "y_t = y_train.drop(outliers)\n",
    "\n",
    "def get_trainning_data_omitoutliers():\n",
    "    y1 = y_t.copy()\n",
    "    X1 = X_t.copy()\n",
    "    return X1, y1\n",
    "\n",
    "X_train, y_train = get_trainning_data_omitoutliers()"
   ]
  },
  {
   "cell_type": "markdown",
   "metadata": {},
   "source": [
    "## 利用网格搜索进行模型训练"
   ]
  },
  {
   "cell_type": "code",
   "execution_count": 11,
   "metadata": {},
   "outputs": [],
   "source": [
    "def train_model(model, param_grid = [], X = [], y = [], splits = 5, repeats = 5):\n",
    "    \n",
    "    # create cross-validation method\n",
    "    rkfold = RepeatedKFold(n_splits = splits, n_repeats = repeats)\n",
    "    \n",
    "    # perform a grid search if param_grid given\n",
    "    if len(param_grid) > 0:\n",
    "        # setup grid search parameters\n",
    "        gsearch = GridSearchCV(model, param_grid, cv = rkfold,\n",
    "                               scoring = \"neg_mean_squared_error\",\n",
    "                               verbose = 1, return_train_score = True, n_jobs = -1)\n",
    "\n",
    "        # search the grid\n",
    "        gsearch.fit(X, y)\n",
    "\n",
    "        # extract best model from the grid\n",
    "        model = gsearch.best_estimator_        \n",
    "        best_idx = gsearch.best_index_\n",
    "\n",
    "        # get cv-scores for best model\n",
    "        grid_results = pd.DataFrame(gsearch.cv_results_)       \n",
    "        cv_mean = abs(grid_results.loc[best_idx, 'mean_test_score'])\n",
    "        cv_std = grid_results.loc[best_idx, 'std_test_score']\n",
    "\n",
    "    # no grid search, just cross-val score for given model    \n",
    "    else:\n",
    "        grid_results = []\n",
    "        cv_results = cross_val_score(model, X, y, scoring = \"neg_mean_squared_error\", cv = rkfold)\n",
    "        cv_mean = abs(np.mean(cv_results))\n",
    "        cv_std = np.std(cv_results)\n",
    "    \n",
    "    # combine mean and std cv-score in to a pandas series\n",
    "    cv_score = pd.Series({'mean' : cv_mean, 'std' : cv_std})\n",
    "\n",
    "    # predict y using the fitted model\n",
    "    y_pred = model.predict(X)\n",
    "    \n",
    "    # print stats on model performance         \n",
    "    print('----------------------')\n",
    "    print(model)\n",
    "    print('----------------------')\n",
    "    print('rmse = ',rmse(y, y_pred))\n",
    "    print('mse = ',mse(y, y_pred))\n",
    "    print('cross_val: mean = ',cv_mean,', std = ',cv_std)\n",
    "\n",
    "    return model, cv_score, grid_results"
   ]
  },
  {
   "cell_type": "code",
   "execution_count": 12,
   "metadata": {},
   "outputs": [],
   "source": [
    "# 模型保存\n",
    "opt_models = dict()\n",
    "score_models = pd.DataFrame(columns = ['mean', 'std'])\n",
    "\n",
    "# CV参数\n",
    "splits = 5\n",
    "repeats = 5"
   ]
  },
  {
   "cell_type": "markdown",
   "metadata": {},
   "source": [
    "## Ridge回归"
   ]
  },
  {
   "cell_type": "code",
   "execution_count": 13,
   "metadata": {},
   "outputs": [
    {
     "name": "stdout",
     "output_type": "stream",
     "text": [
      "Fitting 25 folds for each of 7 candidates, totalling 175 fits\n"
     ]
    },
    {
     "name": "stderr",
     "output_type": "stream",
     "text": [
      "[Parallel(n_jobs=-1)]: Using backend LokyBackend with 12 concurrent workers.\n",
      "[Parallel(n_jobs=-1)]: Done  26 tasks      | elapsed:    1.9s\n"
     ]
    },
    {
     "name": "stdout",
     "output_type": "stream",
     "text": [
      "----------------------\n",
      "Ridge(alpha=0.05, copy_X=True, fit_intercept=True, max_iter=None,\n",
      "      normalize=False, random_state=None, solver='auto', tol=0.001)\n",
      "----------------------\n",
      "rmse =  0.3248010664661183\n",
      "mse =  0.10544290567047854\n",
      "cross_val: mean =  0.11066183329393811 , std =  0.007489202102942783\n"
     ]
    },
    {
     "name": "stderr",
     "output_type": "stream",
     "text": [
      "[Parallel(n_jobs=-1)]: Done 175 out of 175 | elapsed:    2.3s finished\n"
     ]
    },
    {
     "data": {
      "text/plain": [
       "Text(0, 0.5, 'score')"
      ]
     },
     "execution_count": 13,
     "metadata": {},
     "output_type": "execute_result"
    },
    {
     "data": {
      "image/png": "[encoded data removed]",
      "text/plain": [
       "<Figure size 432x288 with 1 Axes>"
      ]
     },
     "metadata": {
      "needs_background": "light"
     },
     "output_type": "display_data"
    }
   ],
   "source": [
    "model = 'Ridge'\n",
    "\n",
    "opt_models[model] = Ridge()\n",
    "alph_range = [0.001, 0.005, 0.01, 0.05, 0.1, 0.5, 1]\n",
    "param_grid = {'alpha': alph_range}\n",
    "\n",
    "opt_models[model], cv_score, grid_results = train_model(opt_models[model], \n",
    "                                                        param_grid = param_grid, \n",
    "                                                        X = X_train, y = y_train,\n",
    "                                                        splits = splits, repeats = repeats)\n",
    "\n",
    "cv_score.name = model\n",
    "score_models = score_models.append(cv_score)\n",
    "\n",
    "fig, ax = plt.subplots()\n",
    "plt.errorbar(alph_range, \n",
    "             abs(grid_results['mean_test_score']),\n",
    "             abs(grid_results['std_test_score']) / np.sqrt(splits * repeats))\n",
    "ax.set_xscale('log')\n",
    "plt.xlabel('alpha')\n",
    "plt.ylabel('score')"
   ]
  },
  {
   "cell_type": "markdown",
   "metadata": {},
   "source": [
    "## Lasso回归"
   ]
  },
  {
   "cell_type": "code",
   "execution_count": 14,
   "metadata": {},
   "outputs": [
    {
     "name": "stdout",
     "output_type": "stream",
     "text": [
      "Fitting 25 folds for each of 7 candidates, totalling 175 fits\n"
     ]
    },
    {
     "name": "stderr",
     "output_type": "stream",
     "text": [
      "[Parallel(n_jobs=-1)]: Using backend LokyBackend with 12 concurrent workers.\n"
     ]
    },
    {
     "name": "stdout",
     "output_type": "stream",
     "text": [
      "----------------------\n",
      "Lasso(alpha=0.0001, copy_X=True, fit_intercept=True, max_iter=1000,\n",
      "      normalize=False, positive=False, precompute=False, random_state=None,\n",
      "      selection='cyclic', tol=0.0001, warm_start=False)\n",
      "----------------------\n",
      "rmse =  0.32495175474711735\n",
      "mse =  0.10554076677757067\n",
      "cross_val: mean =  0.11034605132158333 , std =  0.006738366908395405\n"
     ]
    },
    {
     "name": "stderr",
     "output_type": "stream",
     "text": [
      "[Parallel(n_jobs=-1)]: Done 175 out of 175 | elapsed:    0.5s finished\n"
     ]
    },
    {
     "data": {
      "text/plain": [
       "Text(0, 0.5, 'score')"
      ]
     },
     "execution_count": 14,
     "metadata": {},
     "output_type": "execute_result"
    },
    {
     "data": {
      "image/png": "[encoded data removed]",
      "text/plain": [
       "<Figure size 432x288 with 1 Axes>"
      ]
     },
     "metadata": {
      "needs_background": "light"
     },
     "output_type": "display_data"
    }
   ],
   "source": [
    "model = 'Lasso'\n",
    "\n",
    "opt_models[model] = Lasso()\n",
    "alph_range = [0.0001, 0.0005, 0.001, 0.005, 0.01, 0.05, 0.1]\n",
    "param_grid = {'alpha': alph_range}\n",
    "\n",
    "opt_models[model], cv_score, grid_results = train_model(opt_models[model], \n",
    "                                                        param_grid = param_grid, \n",
    "                                                        X = X_train, y = y_train,\n",
    "                                                        splits = splits, repeats = repeats)\n",
    "\n",
    "cv_score.name = model\n",
    "score_models = score_models.append(cv_score)\n",
    "\n",
    "fig, ax = plt.subplots()\n",
    "plt.errorbar(alph_range, \n",
    "             abs(grid_results['mean_test_score']),\n",
    "             abs(grid_results['std_test_score']) / np.sqrt(splits * repeats))\n",
    "ax.set_xscale('log')\n",
    "plt.xlabel('alpha')\n",
    "plt.ylabel('score')"
   ]
  },
  {
   "cell_type": "markdown",
   "metadata": {},
   "source": [
    "## ElasticNet回归"
   ]
  },
  {
   "cell_type": "code",
   "execution_count": 15,
   "metadata": {},
   "outputs": [
    {
     "name": "stdout",
     "output_type": "stream",
     "text": [
      "Fitting 25 folds for each of 60 candidates, totalling 1500 fits\n"
     ]
    },
    {
     "name": "stderr",
     "output_type": "stream",
     "text": [
      "[Parallel(n_jobs=-1)]: Using backend LokyBackend with 12 concurrent workers.\n",
      "[Parallel(n_jobs=-1)]: Done  52 tasks      | elapsed:    0.6s\n"
     ]
    },
    {
     "name": "stdout",
     "output_type": "stream",
     "text": [
      "----------------------\n",
      "ElasticNet(alpha=0.0001, copy_X=True, fit_intercept=True, l1_ratio=0.2,\n",
      "           max_iter=1000, normalize=False, positive=False, precompute=False,\n",
      "           random_state=None, selection='cyclic', tol=0.0001, warm_start=False)\n",
      "----------------------\n",
      "rmse =  0.3250373217760494\n",
      "mse =  0.10559635656109403\n",
      "cross_val: mean =  0.11014926786897192 , std =  0.009824623979701698\n"
     ]
    },
    {
     "name": "stderr",
     "output_type": "stream",
     "text": [
      "[Parallel(n_jobs=-1)]: Done 1500 out of 1500 | elapsed:    3.2s finished\n"
     ]
    }
   ],
   "source": [
    "model ='ElasticNet'\n",
    "opt_models[model] = ElasticNet()\n",
    "\n",
    "param_grid = {'alpha': [0.0001, 0.0005, 0.001, 0.005, 0.01],\n",
    "              'l1_ratio': np.arange(0.2,1.0,0.2),\n",
    "              'max_iter':[1000, 10000, 100000]}\n",
    "\n",
    "opt_models[model], cv_score, grid_results = train_model(opt_models[model], \n",
    "                                                        param_grid = param_grid, \n",
    "                                                        X = X_train, y = y_train,\n",
    "                                                        splits = splits, repeats = repeats)\n",
    "\n",
    "cv_score.name = model\n",
    "score_models = score_models.append(cv_score)"
   ]
  },
  {
   "cell_type": "markdown",
   "metadata": {},
   "source": [
    "## KNN"
   ]
  },
  {
   "cell_type": "code",
   "execution_count": 16,
   "metadata": {},
   "outputs": [
    {
     "name": "stdout",
     "output_type": "stream",
     "text": [
      "Fitting 25 folds for each of 8 candidates, totalling 200 fits\n"
     ]
    },
    {
     "name": "stderr",
     "output_type": "stream",
     "text": [
      "[Parallel(n_jobs=-1)]: Using backend LokyBackend with 12 concurrent workers.\n",
      "[Parallel(n_jobs=-1)]: Done  36 tasks      | elapsed:    0.4s\n"
     ]
    },
    {
     "name": "stdout",
     "output_type": "stream",
     "text": [
      "----------------------\n",
      "KNeighborsRegressor(algorithm='auto', leaf_size=30, metric='minkowski',\n",
      "                    metric_params=None, n_jobs=None, n_neighbors=10, p=2,\n",
      "                    weights='uniform')\n",
      "----------------------\n",
      "rmse =  0.5234854584660884\n",
      "mse =  0.2738998008763145\n",
      "cross_val: mean =  0.3366083778858288 , std =  0.02551063144764128\n"
     ]
    },
    {
     "name": "stderr",
     "output_type": "stream",
     "text": [
      "[Parallel(n_jobs=-1)]: Done 200 out of 200 | elapsed:    0.8s finished\n"
     ]
    },
    {
     "data": {
      "text/plain": [
       "Text(0, 0.5, 'score')"
      ]
     },
     "execution_count": 16,
     "metadata": {},
     "output_type": "execute_result"
    },
    {
     "data": {
      "image/png": "[encoded data removed]",
      "text/plain": [
       "<Figure size 432x288 with 1 Axes>"
      ]
     },
     "metadata": {
      "needs_background": "light"
     },
     "output_type": "display_data"
    }
   ],
   "source": [
    "model = 'KNeighbors'\n",
    "opt_models[model] = KNeighborsRegressor()\n",
    "\n",
    "param_grid = {'n_neighbors':np.arange(3,11,1)}\n",
    "\n",
    "opt_models[model], cv_score, grid_results = train_model(opt_models[model], \n",
    "                                                        param_grid = param_grid, \n",
    "                                                        X = X_train, y = y_train,\n",
    "                                                        splits = splits, repeats = repeats)\n",
    "\n",
    "cv_score.name = model\n",
    "score_models = score_models.append(cv_score)\n",
    "\n",
    "plt.figure()\n",
    "plt.errorbar(np.arange(3,11,1), \n",
    "             abs(grid_results['mean_test_score']),\n",
    "             abs(grid_results['std_test_score']) / np.sqrt(splits * 1))\n",
    "plt.xlabel('n_neighbors')\n",
    "plt.ylabel('score')"
   ]
  },
  {
   "cell_type": "markdown",
   "metadata": {},
   "source": [
    "## GBDT"
   ]
  },
  {
   "cell_type": "code",
   "execution_count": 17,
   "metadata": {},
   "outputs": [
    {
     "name": "stdout",
     "output_type": "stream",
     "text": [
      "Fitting 5 folds for each of 18 candidates, totalling 90 fits\n"
     ]
    },
    {
     "name": "stderr",
     "output_type": "stream",
     "text": [
      "[Parallel(n_jobs=-1)]: Using backend LokyBackend with 12 concurrent workers.\n",
      "[Parallel(n_jobs=-1)]: Done  26 tasks      | elapsed:    9.3s\n",
      "[Parallel(n_jobs=-1)]: Done  90 out of  90 | elapsed:   49.6s finished\n"
     ]
    },
    {
     "name": "stdout",
     "output_type": "stream",
     "text": [
      "----------------------\n",
      "GradientBoostingRegressor(alpha=0.9, criterion='friedman_mse', init=None,\n",
      "                          learning_rate=0.1, loss='ls', max_depth=4,\n",
      "                          max_features=None, max_leaf_nodes=None,\n",
      "                          min_impurity_decrease=0.0, min_impurity_split=None,\n",
      "                          min_samples_leaf=1, min_samples_split=7,\n",
      "                          min_weight_fraction_leaf=0.0, n_estimators=1000,\n",
      "                          n_iter_no_change=None, presort='auto',\n",
      "                          random_state=None, subsample=1.0, tol=0.0001,\n",
      "                          validation_fraction=0.1, verbose=0, warm_start=False)\n",
      "----------------------\n",
      "rmse =  0.01823698458516319\n",
      "mse =  0.00033242106314067136\n",
      "cross_val: mean =  0.10201647109796368 , std =  0.009986504370623423\n"
     ]
    }
   ],
   "source": [
    "model = 'GradientBoosting'\n",
    "opt_models[model] = GradientBoostingRegressor()\n",
    "\n",
    "param_grid = {'n_estimators':[500, 1000],\n",
    "              'max_depth':[3, 4],\n",
    "              'min_samples_split':[5, 6, 7]\n",
    "              }\n",
    "\n",
    "opt_models[model], cv_score, grid_results = train_model(opt_models[model], \n",
    "                                                        param_grid = param_grid, \n",
    "                                                        X = X_train, y = y_train,\n",
    "                                                        splits = splits, repeats = 1)\n",
    "\n",
    "cv_score.name = model\n",
    "score_models = score_models.append(cv_score)"
   ]
  },
  {
   "cell_type": "markdown",
   "metadata": {},
   "source": [
    "## XGB"
   ]
  },
  {
   "cell_type": "code",
   "execution_count": 18,
   "metadata": {},
   "outputs": [
    {
     "name": "stdout",
     "output_type": "stream",
     "text": [
      "Fitting 5 folds for each of 3 candidates, totalling 15 fits\n"
     ]
    },
    {
     "name": "stderr",
     "output_type": "stream",
     "text": [
      "[Parallel(n_jobs=-1)]: Using backend LokyBackend with 12 concurrent workers.\n",
      "[Parallel(n_jobs=-1)]: Done   8 out of  15 | elapsed:   19.9s remaining:   17.4s\n",
      "[Parallel(n_jobs=-1)]: Done  15 out of  15 | elapsed:   27.3s finished\n"
     ]
    },
    {
     "name": "stdout",
     "output_type": "stream",
     "text": [
      "[11:28:19] WARNING: src/objective/regression_obj.cu:152: reg:linear is now deprecated in favor of reg:squarederror.\n",
      "----------------------\n",
      "XGBRegressor(base_score=0.5, booster='gbtree', colsample_bylevel=1,\n",
      "             colsample_bynode=1, colsample_bytree=1, gamma=0,\n",
      "             importance_type='gain', learning_rate=0.1, max_delta_step=0,\n",
      "             max_depth=4, min_child_weight=1, missing=None, n_estimators=2000,\n",
      "             n_jobs=1, nthread=None, objective='reg:linear', random_state=0,\n",
      "             reg_alpha=0, reg_lambda=1, scale_pos_weight=1, seed=None,\n",
      "             silent=None, subsample=1, verbosity=1)\n",
      "----------------------\n",
      "rmse =  0.0022209337849491803\n",
      "mse =  4.930076898722527e-06\n",
      "cross_val: mean =  0.10240581101375276 , std =  0.0074753876308784155\n"
     ]
    }
   ],
   "source": [
    "model = 'XGB'\n",
    "opt_models[model] = XGBRegressor()\n",
    "\n",
    "param_grid = {'n_estimators':[1000, 2000, 3000],\n",
    "              'max_depth':[4]\n",
    "              }\n",
    "\n",
    "opt_models[model], cv_score, grid_results = train_model(opt_models[model], \n",
    "                                                        param_grid = param_grid, \n",
    "                                                        X = X_train, y = y_train,\n",
    "                                                        splits = splits, repeats = 1)\n",
    "\n",
    "cv_score.name = model\n",
    "score_models = score_models.append(cv_score)"
   ]
  },
  {
   "cell_type": "markdown",
   "metadata": {},
   "source": [
    "## RandomForest"
   ]
  },
  {
   "cell_type": "code",
   "execution_count": 20,
   "metadata": {},
   "outputs": [
    {
     "name": "stdout",
     "output_type": "stream",
     "text": [
      "Fitting 5 folds for each of 9 candidates, totalling 45 fits\n"
     ]
    },
    {
     "name": "stderr",
     "output_type": "stream",
     "text": [
      "[Parallel(n_jobs=-1)]: Using backend LokyBackend with 12 concurrent workers.\n",
      "[Parallel(n_jobs=-1)]: Done  45 out of  45 | elapsed:  5.2min finished\n"
     ]
    },
    {
     "name": "stdout",
     "output_type": "stream",
     "text": [
      "----------------------\n",
      "RandomForestRegressor(bootstrap=True, criterion='mse', max_depth=None,\n",
      "                      max_features=16, max_leaf_nodes=None,\n",
      "                      min_impurity_decrease=0.0, min_impurity_split=None,\n",
      "                      min_samples_leaf=1, min_samples_split=2,\n",
      "                      min_weight_fraction_leaf=0.0, n_estimators=2000,\n",
      "                      n_jobs=None, oob_score=False, random_state=None,\n",
      "                      verbose=0, warm_start=False)\n",
      "----------------------\n",
      "rmse =  0.11885350721889855\n",
      "mse =  0.014119082489610727\n",
      "cross_val: mean =  0.1089673230475294 , std =  0.0060871396262323196\n"
     ]
    }
   ],
   "source": [
    "model = 'RandomForest'\n",
    "opt_models[model] = RandomForestRegressor()\n",
    "\n",
    "param_grid = {'n_estimators':[1000, 2000, 3000],\n",
    "              'max_features':[16, 24, 32],\n",
    "              }\n",
    "\n",
    "opt_models[model], cv_score, grid_results = train_model(opt_models[model], \n",
    "                                                        param_grid = param_grid, \n",
    "                                                        X = X_train, y = y_train,\n",
    "                                                        splits = splits, repeats = 1)\n",
    "\n",
    "cv_score.name = model\n",
    "score_models = score_models.append(cv_score)"
   ]
  },
  {
   "cell_type": "markdown",
   "metadata": {},
   "source": [
    "## 多模型bagging"
   ]
  },
  {
   "cell_type": "code",
   "execution_count": 21,
   "metadata": {},
   "outputs": [],
   "source": [
    "def model_bagging_predict(test_data, test_y = [], stack = False):\n",
    "    i = 0\n",
    "    y_predict_total = np.zeros((test_data.shape[0], ))\n",
    "    for model in opt_models.keys():\n",
    "        if model in ['XGB', 'RandomForest', 'GradientBoosting', 'ElasticNet']:\n",
    "            y_predict = opt_models[model].predict(test_data)\n",
    "            y_predict_total += y_predict\n",
    "            i += 1\n",
    "            if len(test_y) > 0:\n",
    "                print(\"{}_mse:\".format(model), mean_squared_error(y_predict, test_y))\n",
    "        \n",
    "    y_predict_mean = np.round(y_predict_total / i, 3)\n",
    "    if len(test_y) > 0:\n",
    "        print(\"bagging_mean_mse:\", mean_squared_error(y_predict_mean, test_y))\n",
    "    else:\n",
    "        y_predict_mean = pd.Series(y_predict_mean)\n",
    "        return y_predict_mean"
   ]
  },
  {
   "cell_type": "code",
   "execution_count": 22,
   "metadata": {},
   "outputs": [
    {
     "name": "stdout",
     "output_type": "stream",
     "text": [
      "ElasticNet_mse: 0.12311902596187181\n",
      "GradientBoosting_mse: 0.12039889880356214\n",
      "XGB_mse: 0.11968108130869745\n",
      "RandomForest_mse: 0.1230383517822942\n",
      "bagging_mean_mse: 0.1087134982698962\n"
     ]
    }
   ],
   "source": [
    "model_bagging_predict(X_valid, y_valid)"
   ]
  },
  {
   "cell_type": "code",
   "execution_count": 23,
   "metadata": {},
   "outputs": [],
   "source": [
    "bagging_res = model_bagging_predict(test)\n",
    "bagging_res.to_csv('data/bagging_res.txt', sep = '\\t', index = 0)"
   ]
  },
  {
   "cell_type": "code",
   "execution_count": null,
   "metadata": {},
   "outputs": [],
   "source": []
  },
  {
   "cell_type": "code",
   "execution_count": null,
   "metadata": {},
   "outputs": [],
   "source": []
  }
 ],
 "metadata": {
  "kernelspec": {
   "display_name": "Python 3",
   "language": "python",
   "name": "python3"
  },
  "language_info": {
   "codemirror_mode": {
    "name": "ipython",
    "version": 3
   },
   "file_extension": ".py",
   "mimetype": "text/x-python",
   "name": "python",
   "nbconvert_exporter": "python",
   "pygments_lexer": "ipython3",
   "version": "3.7.3"
  }
 },
 "nbformat": 4,
 "nbformat_minor": 2
}
